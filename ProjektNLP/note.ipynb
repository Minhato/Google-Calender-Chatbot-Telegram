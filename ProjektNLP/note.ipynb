{
 "metadata": {
  "language_info": {
   "codemirror_mode": {
    "name": "ipython",
    "version": 3
   },
   "file_extension": ".py",
   "mimetype": "text/x-python",
   "name": "python",
   "nbconvert_exporter": "python",
   "pygments_lexer": "ipython3",
   "version": "3.9.5"
  },
  "orig_nbformat": 2,
  "kernelspec": {
   "name": "python395jvsc74a57bd0fe583e8dbfb2b04c7ce63f3423d548e8abcd56a6edacd006bf5372f23f2e6ea4",
   "display_name": "Python 3.9.5 64-bit (windows store)"
  },
  "metadata": {
   "interpreter": {
    "hash": "fe583e8dbfb2b04c7ce63f3423d548e8abcd56a6edacd006bf5372f23f2e6ea4"
   }
  }
 },
 "nbformat": 4,
 "nbformat_minor": 2,
 "cells": [
  {
   "cell_type": "code",
   "execution_count": null,
   "metadata": {},
   "outputs": [],
   "source": [
    "def getUhrzeit():\n",
    "    uhrzeiten= []\n",
    "    for token in doc2:\n",
    "        print(token.shape)\n",
    "        if token.shape == \"dd:dd\" or token.shape_ == \"dd\":\n",
    "            uhrzeiten.append(token.text)\n",
    "            print(\"ja existiert\", token.text)\n",
    "    print(uhrzeiten)\n",
    "getUhrzeit())"
   ]
  }
 ]
}