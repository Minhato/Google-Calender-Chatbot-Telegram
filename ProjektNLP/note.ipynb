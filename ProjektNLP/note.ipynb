{
 "metadata": {
  "language_info": {
   "codemirror_mode": {
    "name": "ipython",
    "version": 3
   },
   "file_extension": ".py",
   "mimetype": "text/x-python",
   "name": "python",
   "nbconvert_exporter": "python",
   "pygments_lexer": "ipython3",
   "version": "3.9.5"
  },
  "orig_nbformat": 2,
  "kernelspec": {
   "name": "python395jvsc74a57bd0fe583e8dbfb2b04c7ce63f3423d548e8abcd56a6edacd006bf5372f23f2e6ea4",
   "display_name": "Python 3.9.5 64-bit (windows store)"
  },
  "metadata": {
   "interpreter": {
    "hash": "fe583e8dbfb2b04c7ce63f3423d548e8abcd56a6edacd006bf5372f23f2e6ea4"
   }
  }
 },
 "nbformat": 4,
 "nbformat_minor": 2,
 "cells": [
  {
   "cell_type": "code",
   "execution_count": 11,
   "metadata": {},
   "outputs": [
    {
     "output_type": "stream",
     "name": "stdout",
     "text": [
      "2021\n06\n06\n16\n37\n"
     ]
    }
   ],
   "source": [
    "from datetime import *\n",
    "\n",
    "print(datetime.strftime(datetime.now(), \"%Y\")) #jahr\n",
    "print(datetime.strftime(datetime.now(), \"%m\")) #monat\n",
    "print(datetime.strftime(datetime.now(), \"%d\")) # tag\n",
    "print(datetime.strftime(datetime.now(), \"%H\")) #stunde\n",
    "print(datetime.strftime(datetime.now(), \"%M\")) #Minute"
   ]
  },
  {
   "cell_type": "code",
   "execution_count": null,
   "metadata": {},
   "outputs": [],
   "source": []
  }
 ]
}