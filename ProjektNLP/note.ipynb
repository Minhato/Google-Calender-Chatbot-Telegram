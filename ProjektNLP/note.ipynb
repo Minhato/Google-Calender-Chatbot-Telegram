{
 "metadata": {
  "language_info": {
   "codemirror_mode": {
    "name": "ipython",
    "version": 3
   },
   "file_extension": ".py",
   "mimetype": "text/x-python",
   "name": "python",
   "nbconvert_exporter": "python",
   "pygments_lexer": "ipython3",
   "version": "3.9.5"
  },
  "orig_nbformat": 2,
  "kernelspec": {
   "name": "python395jvsc74a57bd0fe583e8dbfb2b04c7ce63f3423d548e8abcd56a6edacd006bf5372f23f2e6ea4",
   "display_name": "Python 3.9.5 64-bit (windows store)"
  },
  "metadata": {
   "interpreter": {
    "hash": "fe583e8dbfb2b04c7ce63f3423d548e8abcd56a6edacd006bf5372f23f2e6ea4"
   }
  }
 },
 "nbformat": 4,
 "nbformat_minor": 2,
 "cells": [
  {
   "cell_type": "code",
   "execution_count": 2,
   "metadata": {},
   "outputs": [
    {
     "output_type": "stream",
     "name": "stdout",
     "text": [
      "2021\n06\n08\n21\n20\n"
     ]
    }
   ],
   "source": [
    "from datetime import *\n",
    "\n",
    "print(datetime.strftime(datetime.now(), \"%Y\")) #jahr\n",
    "print(datetime.strftime(datetime.now(), \"%m\")) #monat\n",
    "print(datetime.strftime(datetime.now(), \"%d\")) # tag\n",
    "print(datetime.strftime(datetime.now(), \"%H\")) #stunde\n",
    "print(datetime.strftime(datetime.now(), \"%M\")) #Minute"
   ]
  },
  {
   "source": [
    "y = datetime(2021,6,10)\n",
    "print(datetime.strftime(y, \"%Y\")) #jahr\n"
   ],
   "cell_type": "code",
   "metadata": {},
   "execution_count": 5,
   "outputs": [
    {
     "output_type": "stream",
     "name": "stdout",
     "text": [
      "2021\n"
     ]
    }
   ]
  },
  {
   "cell_type": "code",
   "execution_count": 8,
   "metadata": {},
   "outputs": [
    {
     "output_type": "error",
     "ename": "TypeError",
     "evalue": "descriptor 'strftime' for 'datetime.date' objects doesn't apply to a 'str' object",
     "traceback": [
      "\u001b[1;31m---------------------------------------------------------------------------\u001b[0m",
      "\u001b[1;31mTypeError\u001b[0m                                 Traceback (most recent call last)",
      "\u001b[1;32m<ipython-input-8-68c88331695b>\u001b[0m in \u001b[0;36m<module>\u001b[1;34m\u001b[0m\n\u001b[1;32m----> 1\u001b[1;33m \u001b[0mprint\u001b[0m\u001b[1;33m(\u001b[0m\u001b[0mdatetime\u001b[0m\u001b[1;33m.\u001b[0m\u001b[0mstrftime\u001b[0m\u001b[1;33m(\u001b[0m\u001b[1;34m\"2021-06-10\"\u001b[0m\u001b[1;33m,\u001b[0m \u001b[1;34m\"%Y\"\u001b[0m\u001b[1;33m)\u001b[0m\u001b[1;33m)\u001b[0m \u001b[1;31m#jahr\u001b[0m\u001b[1;33m\u001b[0m\u001b[1;33m\u001b[0m\u001b[0m\n\u001b[0m",
      "\u001b[1;31mTypeError\u001b[0m: descriptor 'strftime' for 'datetime.date' objects doesn't apply to a 'str' object"
     ]
    }
   ],
   "source": [
    "print(datetime.strftime(\"2021-06-10\", \"%Y\")) #jahr"
   ]
  },
  {
   "cell_type": "code",
   "execution_count": 3,
   "metadata": {},
   "outputs": [
    {
     "output_type": "execute_result",
     "data": {
      "text/plain": [
       "'2021'"
      ]
     },
     "metadata": {},
     "execution_count": 3
    }
   ],
   "source": [
    "y = datetime.strptime(\"2021.06.10\",\"%Y\" \".\" \"%m\" \".\" \"%d\")\n",
    "date.strftime(y, \"%Y\")"
   ]
  },
  {
   "cell_type": "code",
   "execution_count": 18,
   "metadata": {},
   "outputs": [
    {
     "output_type": "execute_result",
     "data": {
      "text/plain": [
       "'2021'"
      ]
     },
     "metadata": {},
     "execution_count": 18
    }
   ],
   "source": [
    "y = datetime.strptime(\"2021-6-10\",\"%Y\" \"-\" \"%m\" \"-\" \"%d\")\n",
    "datetime.strftime(y, \"%Y\")"
   ]
  },
  {
   "cell_type": "code",
   "execution_count": 7,
   "metadata": {},
   "outputs": [
    {
     "output_type": "stream",
     "name": "stdout",
     "text": [
      "15:30:00\n"
     ]
    }
   ],
   "source": [
    "y = datetime.strptime(\"15:30\", \"%H\" \":\" \"%M\")\n",
    "y = datetime.time(y).strftime(\"%H\")\n",
    "print(y)"
   ]
  },
  {
   "cell_type": "code",
   "execution_count": null,
   "metadata": {},
   "outputs": [],
   "source": []
  }
 ]
}